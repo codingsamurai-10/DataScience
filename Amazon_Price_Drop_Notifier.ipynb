{
  "nbformat": 4,
  "nbformat_minor": 0,
  "metadata": {
    "colab": {
      "name": "Amazon Price Drop Notifier",
      "provenance": [],
      "collapsed_sections": [],
      "authorship_tag": "ABX9TyPRf8xUEg0XiCTwOfxsFcp1",
      "include_colab_link": true
    },
    "kernelspec": {
      "name": "python3",
      "display_name": "Python 3"
    }
  },
  "cells": [
    {
      "cell_type": "markdown",
      "metadata": {
        "id": "view-in-github",
        "colab_type": "text"
      },
      "source": [
        "<a href=\"https://colab.research.google.com/github/codingsamurai-10/DataScience/blob/master/Amazon_Price_Drop_Notifier.ipynb\" target=\"_parent\"><img src=\"https://colab.research.google.com/assets/colab-badge.svg\" alt=\"Open In Colab\"/></a>"
      ]
    },
    {
      "cell_type": "markdown",
      "metadata": {
        "id": "1_-KQ3d-jS1k"
      },
      "source": [
        "# Price drop notifier\n",
        "The aim of this project is to automatically scrape data from a specified page on Amazon and notify the user on Slack in case there is a price drop."
      ]
    },
    {
      "cell_type": "code",
      "metadata": {
        "id": "I6phQtDxjnIl"
      },
      "source": [
        "import requests\n",
        "from bs4 import BeautifulSoup\n",
        "import time\n",
        "from json import dumps\n",
        "from httplib2 import Http"
      ],
      "execution_count": 1,
      "outputs": []
    },
    {
      "cell_type": "code",
      "metadata": {
        "id": "d9Tf6L7brEqK"
      },
      "source": [
        "sleep_time = 10\n",
        "headers = {'User-Agent':'Mozilla/5.0 (Windows NT 10.0; Win64; x64) AppleWebKit/537.36 (KHTML, like Gecko) Chrome/58.0.3029.110 Safari/537.3'}\n",
        "slack_url = 'YOUR_SLACK_WEBHOOK_URL'\n",
        "url_to_scrape = 'PRODUCT_PAGE'"
      ],
      "execution_count": 2,
      "outputs": []
    },
    {
      "cell_type": "code",
      "metadata": {
        "id": "RS3A_JuPpFxQ"
      },
      "source": [
        "def get_product_price_and_name():\n",
        "    response = requests.get(url_to_scrape, headers=headers)\n",
        "\n",
        "    soup = BeautifulSoup(response.content, 'html.parser')\n",
        "\n",
        "    product_name = soup.find(id=\"productTitle\").get_text().replace('\\n', '')\n",
        "\n",
        "    price_element = soup.find(id=\"priceblock_ourprice\").get_text()\n",
        "    price_string = str(price_element)[2:].replace(',', '')\n",
        "    return float(price_string), product_name"
      ],
      "execution_count": 3,
      "outputs": []
    },
    {
      "cell_type": "code",
      "metadata": {
        "id": "lZNVOHgfwIRu"
      },
      "source": [
        "def send_notification(product_name, last_price, curr_price):\n",
        "    if last_price == curr_price: return\n",
        "\n",
        "    status = 'dropped'\n",
        "    if(last_price < curr_price): status = 'rose'\n",
        "\n",
        "    bot_message = {\n",
        "        'text' : 'Price of {} {} from Rs. {} to Rs. {}'\n",
        "        .format(product_name, status, last_price, curr_price)}\n",
        "\n",
        "    message_headers = {'Content-Type': 'application/json'}\n",
        "\n",
        "    http_obj = Http()\n",
        "\n",
        "    response = http_obj.request(\n",
        "        uri=slack_url,\n",
        "        method='POST',\n",
        "        headers=message_headers,\n",
        "        body=dumps(bot_message),\n",
        "    )"
      ],
      "execution_count": 12,
      "outputs": []
    },
    {
      "cell_type": "code",
      "metadata": {
        "id": "6Vg3RL3ay-Cx"
      },
      "source": [
        "def send_start_notification(product_name, initial_price):\n",
        "    bot_message = {\n",
        "        'text' : ('Started monitoring the price of {}.\\nThe current price is '\n",
        "         'Rs.{}, you will be notified if there is a price drop or rise '\n",
        "         'on this item.')\n",
        "        .format(product_name, initial_price)}\n",
        "\n",
        "    message_headers = {'Content-Type': 'application/json'}\n",
        "\n",
        "    http_obj = Http()\n",
        "\n",
        "    response = http_obj.request(\n",
        "        uri=slack_url,\n",
        "        method='POST',\n",
        "        headers=message_headers,\n",
        "        body=dumps(bot_message),\n",
        "    )"
      ],
      "execution_count": 10,
      "outputs": []
    },
    {
      "cell_type": "code",
      "metadata": {
        "id": "HYZhMCE351m-"
      },
      "source": [
        "def send_error_notification():\n",
        "    bot_message = {\n",
        "        'text' : 'The script encountered an error.'\n",
        "        .format(product_name, initial_price)}\n",
        "\n",
        "    message_headers = {'Content-Type': 'application/json'}\n",
        "\n",
        "    http_obj = Http()\n",
        "\n",
        "    response = http_obj.request(\n",
        "        uri=slack_url,\n",
        "        method='POST',\n",
        "        headers=message_headers,\n",
        "        body=dumps(bot_message),\n",
        "    )"
      ],
      "execution_count": 6,
      "outputs": []
    },
    {
      "cell_type": "code",
      "metadata": {
        "id": "6rBleGxJpl_X"
      },
      "source": [
        "try:\n",
        "    initial_price, product_name = get_product_price_and_name()\n",
        "    last_price = initial_price\n",
        "    send_start_notification(product_name, initial_price)\n",
        "    time.sleep(sleep_time)\n",
        "    while(True):\n",
        "        curr_price, product_name = get_product_price_and_name()\n",
        "        send_notification(product_name, last_price, curr_price)\n",
        "        time.sleep(sleep_time)\n",
        "except:\n",
        "    send_error_notification()"
      ],
      "execution_count": 13,
      "outputs": []
    }
  ]
}